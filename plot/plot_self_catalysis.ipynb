{
 "cells": [
  {
   "cell_type": "markdown",
   "metadata": {},
   "source": [
    "# Plot Majorization Analysis"
   ]
  },
  {
   "cell_type": "code",
   "execution_count": null,
   "metadata": {},
   "outputs": [],
   "source": [
    "import pandas as pd\n",
    "import plotly.graph_objects as go"
   ]
  },
  {
   "cell_type": "markdown",
   "metadata": {},
   "source": [
    "## Accuracy"
   ]
  },
  {
   "cell_type": "code",
   "execution_count": null,
   "metadata": {},
   "outputs": [],
   "source": [
    "self_acc_filename = '../runner/results/self_catalysis_acc.csv'\n",
    "df_self_acc_results = pd.read_csv(self_acc_filename,sep=';',names=['optimizer','dim','acc'])"
   ]
  },
  {
   "cell_type": "code",
   "execution_count": null,
   "metadata": {},
   "outputs": [],
   "source": [
    "optimizers = df_self_acc_results.optimizer.unique()\n",
    "dimensions = df_self_acc_results.dim.unique()"
   ]
  },
  {
   "cell_type": "code",
   "execution_count": null,
   "metadata": {},
   "outputs": [],
   "source": [
    "acc_filename = '../runner/results/max_epoch_accuracy.csv'\n",
    "df_acc_results = pd.read_csv(acc_filename,sep=';',names=['optimizer','dim','epoch','acc'])\n",
    "df_acc_results = df_acc_results.loc[df_acc_results['dim'].isin(dimensions)]"
   ]
  },
  {
   "cell_type": "code",
   "execution_count": null,
   "metadata": {},
   "outputs": [],
   "source": [
    "for opt in optimizers:\n",
    "    fig = go.Figure()\n",
    "    df_self = df_self_acc_results.loc[df_self_acc_results['optimizer'] == opt]\n",
    "    df_maj = df_acc_results.loc[df_acc_results['optimizer'] == opt]#.sort_values('dim')\n",
    "    fig.add_trace(go.Scatter(x=df_maj['dim'], y=df_maj['acc'], name='majorization', marker_symbol='circle', marker_size=10))\n",
    "    fig.add_trace(go.Scatter(x=df_self['dim'], y=df_self['acc'], name='self-catalysis', marker_symbol='square', marker_size=10))\n",
    "    fig.update_traces(mode='markers')\n",
    "    fig.update_layout(legend=dict(y=0.5, font_size=16), title=\"Accuracy comparation majorization vs self-catalysis: \" + opt,\n",
    "        title_x=0.5,\n",
    "        title_font_size=20,\n",
    "        template=\"plotly_white\",\n",
    "        xaxis_title_text=\"dimension\",\n",
    "        yaxis_title_text=\"accuracy\")\n",
    "    fig.show()"
   ]
  },
  {
   "cell_type": "code",
   "execution_count": null,
   "metadata": {},
   "outputs": [],
   "source": [
    "bar_data = []\n",
    "for opt in optimizers:\n",
    "    df_opt = df_acc_results.loc[df_acc_results['optimizer'] == opt]\n",
    "    bar_data.append(go.Bar(name=opt, x=df_opt['dim'], y=df_opt['acc'], text=df_opt['acc'], textposition='auto',texttemplate='%{text:.4f}'))\n",
    "\n",
    "fig = go.Figure(bar_data)\n",
    "# Change the bar mode\n",
    "fig.update_layout(barmode='group', title_text='Self Catalysis Analysis')\n",
    "fig.update_yaxes(range=[0.85,1], title=\"Accuracy\")\n",
    "fig.update_xaxes(title='Dimension')\n",
    "fig.show()"
   ]
  },
  {
   "cell_type": "markdown",
   "metadata": {},
   "source": [
    "## Execution Time"
   ]
  },
  {
   "cell_type": "code",
   "execution_count": null,
   "metadata": {},
   "outputs": [],
   "source": [
    "ml_time_filename = '../runner/results/self_catalysis_execution_time.csv'\n",
    "df_ml_time_results = pd.read_csv(ml_time_filename,sep=';',names=['optimizer','dim','time'])\n",
    "optimizers = df_ml_time_results.optimizer.unique()"
   ]
  },
  {
   "cell_type": "code",
   "execution_count": null,
   "metadata": {},
   "outputs": [],
   "source": [
    "nielsen_time_filename = '../runner/results/nielsens_self_catalysis_execution_time.csv'\n",
    "df_nielsen_time_results = pd.read_csv(nielsen_time_filename,sep=';',names=['method','dim','time'])"
   ]
  },
  {
   "cell_type": "code",
   "execution_count": null,
   "metadata": {},
   "outputs": [],
   "source": [
    "fig = go.Figure()\n",
    "symbols = ['circle','square','x', 'triangle-up', 'diamond']\n",
    "colors = ['blue','red','green','purple','orange']\n",
    "\n",
    "for idx,opt in enumerate(optimizers):\n",
    "    df_opt = df_ml_time_results.loc[df_ml_time_results['optimizer'] == opt].sort_values('dim')\n",
    "    fig.add_trace(go.Scatter(x=df_opt['dim'], y=df_opt['time'], name=opt, marker_symbol=symbols[idx], marker_size=10, marker_color=colors[idx]))\n",
    "    fig.add_trace(go.Scatter(x=df_opt['dim'], y=df_opt['time'], name=opt, marker_symbol=symbols[idx], marker_size=10, marker_color=colors[idx], xaxis='x2',yaxis='y2',showlegend=False))\n",
    "fig.add_trace(go.Scatter(x=df_nielsen_time_results['dim'], y=df_nielsen_time_results['time'], name='Nielsen', marker_symbol='star', marker_size=10))\n",
    "\n",
    "fig.update_traces(mode='markers')\n",
    "fig.update_layout(legend=dict(y=0.5, font_size=16), title=\"Execution time comparison\",\n",
    "        title_x=0.5,\n",
    "        title_font_size=20,\n",
    "        height = 800,\n",
    "        template=\"plotly_white\",\n",
    "        xaxis2=dict(\n",
    "            domain=[0.08, 0.45],\n",
    "            anchor='y2',\n",
    "            showline=True, linewidth=2, linecolor='black',mirror=True,\n",
    "        ),\n",
    "        yaxis2=dict(\n",
    "            domain=[0.65, 0.98],\n",
    "            anchor='x2',\n",
    "            showline=True, linewidth=2, linecolor='black',mirror=True\n",
    "        ),\n",
    "        xaxis_title_text=\"dimension\",\n",
    "        yaxis_title_text=\"execution time (s)\",\n",
    "        xaxis2_title_text=\"dimension\",\n",
    "        yaxis2_title_text=\"execution time (s)\")\n",
    "fig.show()"
   ]
  },
  {
   "cell_type": "code",
   "execution_count": null,
   "metadata": {},
   "outputs": [],
   "source": []
  }
 ],
 "metadata": {
  "kernelspec": {
   "display_name": "Python 3.7.9 ('venv': virtualenv)",
   "language": "python",
   "name": "python3"
  },
  "language_info": {
   "codemirror_mode": {
    "name": "ipython",
    "version": 3
   },
   "file_extension": ".py",
   "mimetype": "text/x-python",
   "name": "python",
   "nbconvert_exporter": "python",
   "pygments_lexer": "ipython3",
   "version": "3.7.9"
  },
  "orig_nbformat": 4,
  "vscode": {
   "interpreter": {
    "hash": "2f5a1eaa97d7fa64e27830ed955794d65c91988754f18d49c17d98b7867074a7"
   }
  }
 },
 "nbformat": 4,
 "nbformat_minor": 2
}

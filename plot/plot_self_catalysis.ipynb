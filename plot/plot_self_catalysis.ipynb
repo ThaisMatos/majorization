{
 "cells": [
  {
   "cell_type": "markdown",
   "metadata": {},
   "source": [
    "# Plot Majorization Analysis"
   ]
  },
  {
   "cell_type": "code",
   "execution_count": null,
   "metadata": {},
   "outputs": [],
   "source": [
    "import pandas as pd\n",
    "import plotly.graph_objects as go"
   ]
  },
  {
   "cell_type": "markdown",
   "metadata": {},
   "source": [
    "## Accuracy"
   ]
  },
  {
   "cell_type": "code",
   "execution_count": null,
   "metadata": {},
   "outputs": [],
   "source": [
    "self_acc_filename = '../runner/results/self_catalysis_acc.csv'\n",
    "df_self_acc_results = pd.read_csv(self_acc_filename,sep=';',names=['optimizer','dim','acc'])"
   ]
  },
  {
   "cell_type": "code",
   "execution_count": null,
   "metadata": {},
   "outputs": [],
   "source": [
    "optimizers = df_self_acc_results.optimizer.unique()\n",
    "dimensions = df_self_acc_results.dim.unique()"
   ]
  },
  {
   "cell_type": "code",
   "execution_count": null,
   "metadata": {},
   "outputs": [],
   "source": [
    "acc_filename = '../runner/results/max_epoch_accuracy.csv'\n",
    "df_acc_results = pd.read_csv(acc_filename,sep=';',names=['optimizer','dim','epoch','acc'])\n",
    "df_acc_results = df_acc_results.loc[df_acc_results['dim'].isin(dimensions)]"
   ]
  },
  {
   "cell_type": "code",
   "execution_count": null,
   "metadata": {},
   "outputs": [],
   "source": [
    "for opt in optimizers:\n",
    "    fig = go.Figure()\n",
    "    df_self = df_self_acc_results.loc[df_self_acc_results['optimizer'] == opt]\n",
    "    df_maj = df_acc_results.loc[df_acc_results['optimizer'] == opt]#.sort_values('dim')\n",
    "    fig.add_trace(go.Scatter(x=df_maj['dim'], y=df_maj['acc'], name='majorization', marker_symbol='circle', marker_size=10))\n",
    "    fig.add_trace(go.Scatter(x=df_self['dim'], y=df_self['acc'], name='self-catalysis', marker_symbol='square', marker_size=10))\n",
    "    fig.update_traces(mode='markers')\n",
    "    fig.update_layout(legend=dict(y=0.5, font_size=16), title=\"Accuracy comparation majorization vs self-catalysis: \" + opt,\n",
    "        title_x=0.5,\n",
    "        title_font_size=20,\n",
    "        template=\"plotly_white\",\n",
    "        xaxis_title_text=\"dimension\",\n",
    "        yaxis_title_text=\"accuracy\")\n",
    "    fig.show()"
   ]
  },
  {
   "cell_type": "code",
   "execution_count": null,
   "metadata": {},
   "outputs": [],
   "source": [
    "bar_data = []\n",
    "for opt in optimizers:\n",
    "    df_opt = df_acc_results.loc[df_acc_results['optimizer'] == opt]\n",
    "    bar_data.append(go.Bar(name=opt, x=df_opt['dim'], y=df_opt['acc'], text=df_opt['acc'], textposition='auto',texttemplate='%{text:.4f}'))\n",
    "\n",
    "fig = go.Figure(bar_data)\n",
    "# Change the bar mode\n",
    "fig.update_layout(barmode='group', title_text='Self Catalysis Analysis')\n",
    "fig.update_yaxes(range=[0.85,1], title=\"Accuracy\")\n",
    "fig.update_xaxes(title='Dimension')\n",
    "fig.show()"
   ]
  },
  {
   "cell_type": "code",
   "execution_count": null,
   "metadata": {},
   "outputs": [],
   "source": []
  }
 ],
 "metadata": {
  "interpreter": {
   "hash": "26af68bab6a6ee3c06d7425d65c91870efdccef678342ee374f9f2554bf3aa17"
  },
  "kernelspec": {
   "display_name": "Python 3.7.9 64-bit ('venv': virtualenv)",
   "name": "python3"
  },
  "language_info": {
   "codemirror_mode": {
    "name": "ipython",
    "version": 3
   },
   "file_extension": ".py",
   "mimetype": "text/x-python",
   "name": "python",
   "nbconvert_exporter": "python",
   "pygments_lexer": "ipython3",
   "version": "3.7.9"
  },
  "orig_nbformat": 4
 },
 "nbformat": 4,
 "nbformat_minor": 2
}

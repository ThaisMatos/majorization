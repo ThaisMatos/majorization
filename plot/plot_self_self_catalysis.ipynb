{
 "cells": [
  {
   "cell_type": "markdown",
   "metadata": {},
   "source": [
    "# Plot Majorization Analysis"
   ]
  },
  {
   "cell_type": "code",
   "execution_count": null,
   "metadata": {},
   "outputs": [],
   "source": [
    "import pandas as pd\n",
    "import plotly.express as px\n",
    "import plotly.graph_objects as go\n",
    "from plotly.subplots import make_subplots"
   ]
  },
  {
   "cell_type": "markdown",
   "metadata": {},
   "source": [
    "## Accuracy"
   ]
  },
  {
   "cell_type": "code",
   "execution_count": null,
   "metadata": {},
   "outputs": [],
   "source": [
    "acc_filename = '../runner/results/self_self_catalysis_acc.csv'\n",
    "df_acc_results = pd.read_csv(acc_filename,sep=';',names=['optimizer','dim','acc'])"
   ]
  },
  {
   "cell_type": "code",
   "execution_count": null,
   "metadata": {},
   "outputs": [],
   "source": [
    "acc_predict_filename = '../runner/results/self_self_catalysis_acc_predict.csv'\n",
    "df_acc_predict_results = pd.read_csv(acc_predict_filename,sep=';',names=['optimizer','dim','acc'])"
   ]
  },
  {
   "cell_type": "code",
   "execution_count": null,
   "metadata": {},
   "outputs": [],
   "source": [
    "optimizers = df_acc_results.optimizer.unique()\n",
    "dim = sorted(df_acc_results.dim.unique())"
   ]
  },
  {
   "cell_type": "code",
   "execution_count": null,
   "metadata": {},
   "outputs": [],
   "source": [
    "fig = go.Figure(data=[\n",
    "    go.Bar(name='Self - Formula', x=optimizers, y=df_acc_results['acc'], text=df_acc_results['acc'], textposition='auto',texttemplate='%{text:.4f}'),\n",
    "    go.Bar(name='Self - Predict', x=optimizers, y=df_acc_predict_results['acc'], text=df_acc_predict_results['acc'], textposition='auto',texttemplate='%{text:.4f}')\n",
    "])\n",
    "# Change the bar mode\n",
    "fig.update_layout(barmode='group', title_text='Self Self Catalysis Analysis - Dimension 4')\n",
    "fig.update_yaxes(range=[0.9,1], title=\"Accuracy\")\n",
    "fig.update_xaxes(title='Optimizer')\n",
    "fig.show()"
   ]
  },
  {
   "cell_type": "code",
   "execution_count": null,
   "metadata": {},
   "outputs": [],
   "source": []
  }
 ],
 "metadata": {
  "interpreter": {
   "hash": "26af68bab6a6ee3c06d7425d65c91870efdccef678342ee374f9f2554bf3aa17"
  },
  "kernelspec": {
   "display_name": "Python 3.7.9 64-bit ('venv': virtualenv)",
   "name": "python3"
  },
  "language_info": {
   "codemirror_mode": {
    "name": "ipython",
    "version": 3
   },
   "file_extension": ".py",
   "mimetype": "text/x-python",
   "name": "python",
   "nbconvert_exporter": "python",
   "pygments_lexer": "ipython3",
   "version": "3.7.9"
  },
  "orig_nbformat": 4
 },
 "nbformat": 4,
 "nbformat_minor": 2
}

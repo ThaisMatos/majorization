{
 "cells": [
  {
   "cell_type": "markdown",
   "metadata": {},
   "source": [
    "# Plot Majorization Analysis"
   ]
  },
  {
   "cell_type": "code",
   "execution_count": null,
   "metadata": {},
   "outputs": [],
   "source": [
    "import pandas as pd\n",
    "import plotly.express as px\n",
    "import plotly.graph_objects as go\n",
    "from plotly.subplots import make_subplots"
   ]
  },
  {
   "cell_type": "markdown",
   "metadata": {},
   "source": [
    "## Accuracy"
   ]
  },
  {
   "cell_type": "code",
   "execution_count": null,
   "metadata": {},
   "outputs": [],
   "source": [
    "acc_filename = '../runner/results/all_accuracy.csv'\n",
    "df_acc_results = pd.read_csv(acc_filename,sep=';',names=['optimizer','dim','epoch','acc'])"
   ]
  },
  {
   "cell_type": "code",
   "execution_count": null,
   "metadata": {},
   "outputs": [],
   "source": [
    "optimizers = df_acc_results.optimizer.unique()\n",
    "dim = sorted(df_acc_results.dim.unique())"
   ]
  },
  {
   "cell_type": "code",
   "execution_count": null,
   "metadata": {},
   "outputs": [],
   "source": [
    "for opt in optimizers:\n",
    "    df_opt = df_acc_results.loc[df_acc_results['optimizer'] == opt]\n",
    "    fig = go.Figure(\n",
    "        data=go.Scatter(x=df_opt['dim'], y=df_opt['epoch'], mode=\"markers\",\n",
    "            marker=dict(\n",
    "                color=df_opt['acc'],\n",
    "                coloraxis=\"coloraxis\"\n",
    "            )\n",
    "        ),\n",
    "        layout=go.Layout(coloraxis=dict(cmax=1, cmin=0.85, colorscale='Reds', colorbar=dict(len=0.9,title=\"accuracy\")),\n",
    "            title_text=\"Majorization Analysis by Optimizer: \" + opt,\n",
    "            title_x=0.5,\n",
    "            title_font_size=20,\n",
    "            template=\"plotly_white\",\n",
    "            xaxis_title_text=\"dimension\",\n",
    "            yaxis_title_text=\"epoch\"\n",
    "        )\n",
    "    )\n",
    "    fig.show()"
   ]
  },
  {
   "cell_type": "code",
   "execution_count": null,
   "metadata": {},
   "outputs": [],
   "source": [
    "for opt in optimizers:\n",
    "    df_opt = df_acc_results.loc[df_acc_results['optimizer'] == opt]\n",
    "    df_opt_gt_0 = df_opt.loc[df_opt['epoch'] > 0]\n",
    "    fig = px.box(df_opt_gt_0, x='epoch', y='acc', points=\"all\", color_discrete_sequence=px.colors.qualitative.Set1)\n",
    "    fig.update_layout(title=\"Accuracy variance by epoch across dimensions - \" + opt,\n",
    "        title_x=0.5,\n",
    "        title_font_size=20,\n",
    "        template=\"plotly_white\",\n",
    "        xaxis_title_text=\"epoch\",\n",
    "        yaxis_title_text=\"accuracy\"\n",
    "    )\n",
    "    fig.show()"
   ]
  },
  {
   "cell_type": "markdown",
   "metadata": {},
   "source": [
    "## Training time"
   ]
  },
  {
   "cell_type": "code",
   "execution_count": null,
   "metadata": {},
   "outputs": [],
   "source": [
    "time_filename = '../runner/results/max_epoch_training_time.csv'\n",
    "df_time_results = pd.read_csv(time_filename,sep=';',names=['optimizer','dim','epoch','time'])\n",
    "optimizers = df_time_results.optimizer.unique()"
   ]
  },
  {
   "cell_type": "code",
   "execution_count": null,
   "metadata": {},
   "outputs": [],
   "source": [
    "fig = go.Figure()\n",
    "symbols = ['circle','square','x', 'triangle-up', 'star']\n",
    "for idx,opt in enumerate(optimizers):\n",
    "    df_opt = df_time_results.loc[df_time_results['optimizer'] == opt].sort_values('dim')\n",
    "    fig.add_trace(go.Scatter(x=df_opt['dim'], y=df_opt['time'], name=opt, marker_symbol=symbols[idx], marker_size=10))\n",
    "fig.update_traces(mode='markers')\n",
    "fig.update_layout(legend=dict(y=0.5, font_size=16), title=\"Training time across dimensions by optimizer\",\n",
    "        title_x=0.5,\n",
    "        title_font_size=20,\n",
    "        template=\"plotly_white\",\n",
    "        xaxis_title_text=\"dimension\",\n",
    "        yaxis_title_text=\"training time (ms)\")\n",
    "fig.show()"
   ]
  },
  {
   "cell_type": "code",
   "execution_count": null,
   "metadata": {},
   "outputs": [],
   "source": []
  }
 ],
 "metadata": {
  "interpreter": {
   "hash": "26af68bab6a6ee3c06d7425d65c91870efdccef678342ee374f9f2554bf3aa17"
  },
  "kernelspec": {
   "display_name": "Python 3.7.9 64-bit ('venv': virtualenv)",
   "name": "python3"
  },
  "language_info": {
   "codemirror_mode": {
    "name": "ipython",
    "version": 3
   },
   "file_extension": ".py",
   "mimetype": "text/x-python",
   "name": "python",
   "nbconvert_exporter": "python",
   "pygments_lexer": "ipython3",
   "version": "3.7.9"
  },
  "orig_nbformat": 4
 },
 "nbformat": 4,
 "nbformat_minor": 2
}

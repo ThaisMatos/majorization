{
 "cells": [
  {
   "cell_type": "markdown",
   "metadata": {},
   "source": [
    "# Plotting results\n",
    "\n",
    "> For each dimension:\n",
    "* epoch x optimizer x acc\n",
    "* epoch x optimizer x training time"
   ]
  },
  {
   "cell_type": "code",
   "execution_count": null,
   "metadata": {},
   "outputs": [],
   "source": [
    "import pandas as pd\n",
    "import plotly.express as px"
   ]
  },
  {
   "cell_type": "markdown",
   "metadata": {},
   "source": [
    "## Reading results from a file"
   ]
  },
  {
   "cell_type": "code",
   "execution_count": null,
   "metadata": {},
   "outputs": [],
   "source": [
    "filename = '../runner/results/all_accuracy.csv'\n",
    "df_results = pd.read_csv(filename,sep=';',names=['optimizer','dim','epoch','acc'])"
   ]
  },
  {
   "cell_type": "code",
   "execution_count": null,
   "metadata": {},
   "outputs": [],
   "source": [
    "optimizers = df_results.optimizer.unique()\n",
    "dim = sorted(df_results.dim.unique())"
   ]
  },
  {
   "cell_type": "code",
   "execution_count": null,
   "metadata": {},
   "outputs": [],
   "source": [
    "for d in dim[:1]:\n",
    "    df_opt = df_results.loc[df_results['dim'] == d]\n",
    "    fig = px.scatter(df_opt, x='epoch', y='acc', color='acc',animation_frame='optimizer',range_x=[0,50], range_color=[0.980,1], template=\"plotly_white\",\n",
    "    title=\"Dimension \"+ str(d))\n",
    "    fig.show()"
   ]
  },
  {
   "cell_type": "code",
   "execution_count": null,
   "metadata": {},
   "outputs": [],
   "source": [
    "graphic3d = px.scatter_3d(df_results, x='dim', y='epoch', z='acc',color='optimizer',template=\"plotly_white\")\n",
    "graphic3d.show()"
   ]
  },
  {
   "cell_type": "code",
   "execution_count": null,
   "metadata": {},
   "outputs": [],
   "source": [
    "fig = px.scatter_matrix(df_results, dimensions=['epoch','dim','optimizer'], color='acc', range_color=[0.8,1])\n",
    "fig.show()"
   ]
  },
  {
   "cell_type": "code",
   "execution_count": null,
   "metadata": {},
   "outputs": [],
   "source": [
    "for opt in optimizers:\n",
    "    df_opt = df_results.loc[df_results['optimizer'] == opt]\n",
    "    fig = px.scatter_matrix(df_opt, dimensions=['epoch','dim'], color='acc', range_color=[0.9,1], title=\"Optimizer: \"+ opt)\n",
    "    fig.show()"
   ]
  },
  {
   "cell_type": "code",
   "execution_count": null,
   "metadata": {},
   "outputs": [],
   "source": [
    "for d in dim:\n",
    "    df_opt = df_results.loc[df_results['dim'] == d]\n",
    "    fig = px.bar(df_opt, x=\"optimizer\", y=\"epoch\", color=\"acc\", range_color=[0.85,1], title=\"Dimension: \" + str(d))\n",
    "    fig.show()"
   ]
  },
  {
   "cell_type": "code",
   "execution_count": null,
   "metadata": {},
   "outputs": [],
   "source": [
    "for opt in optimizers[:1]:\n",
    "    df_opt = df_results.loc[df_results['optimizer'] == opt]\n",
    "    fig = px.bar(df_opt, x=\"dim\", y=\"epoch\", color=\"acc\", range_color=[0.9,1], title=\"Optimizer: \" + opt)\n",
    "    fig.show()"
   ]
  },
  {
   "cell_type": "code",
   "execution_count": null,
   "metadata": {},
   "outputs": [],
   "source": [
    "for d in dim[:1]:\n",
    "    df_opt = df_results.loc[df_results['dim'] == d]\n",
    "    fig = px.bar_polar(df_opt, r=\"epoch\", theta=\"optimizer\", color=\"acc\", range_color=[0.980,1], title=\"Dimension \" + str(d))\n",
    "    fig.show()"
   ]
  },
  {
   "cell_type": "code",
   "execution_count": null,
   "metadata": {},
   "outputs": [],
   "source": [
    "# from plotly.offline import plot\n",
    "# plot(graphic2d)"
   ]
  },
  {
   "cell_type": "code",
   "execution_count": null,
   "metadata": {},
   "outputs": [],
   "source": []
  }
 ],
 "metadata": {
  "kernelspec": {
   "display_name": "Python 3.7.6 64-bit ('venv': virtualenv)",
   "language": "python",
   "name": "python37664bitvenvvirtualenv76aacd352c7a46bc9e8335aecdb5fbc9"
  },
  "language_info": {
   "codemirror_mode": {
    "name": "ipython",
    "version": 3
   },
   "file_extension": ".py",
   "mimetype": "text/x-python",
   "name": "python",
   "nbconvert_exporter": "python",
   "pygments_lexer": "ipython3",
   "version": "3.7.9-final"
  },
  "orig_nbformat": 2
 },
 "nbformat": 4,
 "nbformat_minor": 2
}

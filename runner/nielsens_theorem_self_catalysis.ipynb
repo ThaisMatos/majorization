{
 "cells": [
  {
   "cell_type": "markdown",
   "metadata": {},
   "source": [
    "# Nielsen's Theorem for Self Catalysis"
   ]
  },
  {
   "cell_type": "markdown",
   "metadata": {},
   "source": [
    "1. Find alpha =/> beta and beta =/> alpha pairs\n",
    "2. Calculate alpha x alpha (alpha') and beta x alpha(beta')\n",
    "3. Sort alpha' and beta'\n",
    "4. Check if alpha' -> beta' using Nielsens theorem"
   ]
  },
  {
   "cell_type": "markdown",
   "metadata": {},
   "source": [
    "## Data preprocessing"
   ]
  },
  {
   "cell_type": "code",
   "execution_count": null,
   "metadata": {},
   "outputs": [],
   "source": [
    "import time"
   ]
  },
  {
   "cell_type": "code",
   "execution_count": null,
   "metadata": {},
   "outputs": [],
   "source": [
    "%run ../ml_models/CommonFunctions.ipynb"
   ]
  },
  {
   "cell_type": "code",
   "execution_count": null,
   "metadata": {},
   "outputs": [],
   "source": [
    "# dim = 4"
   ]
  },
  {
   "cell_type": "code",
   "execution_count": null,
   "metadata": {},
   "outputs": [],
   "source": [
    "df_sample = read_csv('../data/output_d'+str(dim)+'_s1000000.csv')\n",
    "df_input = format_input(df_sample)"
   ]
  },
  {
   "cell_type": "code",
   "execution_count": null,
   "metadata": {},
   "outputs": [],
   "source": [
    "initial_time = time.time()"
   ]
  },
  {
   "cell_type": "markdown",
   "metadata": {},
   "source": [
    "## Filtering not majorated samples"
   ]
  },
  {
   "cell_type": "code",
   "execution_count": null,
   "metadata": {},
   "outputs": [],
   "source": [
    "df_not_majorated = df_input[df_input['AB'] == False]\n",
    "#TODO filter only b =/> a to get stronger results"
   ]
  },
  {
   "cell_type": "code",
   "execution_count": null,
   "metadata": {},
   "outputs": [],
   "source": [
    "# df_not_majorated.head()"
   ]
  },
  {
   "cell_type": "markdown",
   "metadata": {},
   "source": [
    "## Multiplying and sorting elements"
   ]
  },
  {
   "cell_type": "code",
   "execution_count": null,
   "metadata": {},
   "outputs": [],
   "source": [
    "def multiply_and_sort(row):\n",
    "    newA = np.sort(np.multiply.outer(row[\"A\"], row[\"A\"]).flatten())[::-1]\n",
    "    newB = np.sort(np.multiply.outer(row[\"B\"], row[\"A\"]).flatten())[::-1]\n",
    "    return [newA, newB,None]\n",
    "\n",
    "df_self_catalysis = df_not_majorated.reset_index(drop=True).apply(multiply_and_sort, axis=1, result_type='broadcast')"
   ]
  },
  {
   "cell_type": "markdown",
   "metadata": {},
   "source": [
    "## Checking if alpha => beta using the Nielsen's theorem"
   ]
  },
  {
   "cell_type": "code",
   "execution_count": null,
   "metadata": {},
   "outputs": [],
   "source": [
    "start_time = time.time()\n",
    "df_self_catalysis['AB'] = df_self_catalysis.apply(lambda row: is_a_valid_pair(row.A,row.B), axis=1)\n",
    "catalysis_time = time.time() - start_time\n",
    "complete_time = time.time() - initial_time"
   ]
  },
  {
   "cell_type": "markdown",
   "metadata": {},
   "source": [
    "## Writing output accuracy and time on files"
   ]
  },
  {
   "cell_type": "code",
   "execution_count": null,
   "metadata": {},
   "outputs": [],
   "source": [
    "output_name = 'results/nielsens_self_catalysis_execution_time.csv'\n",
    "save_data(output_name,'nielsen',dim,catalysis_time)"
   ]
  },
  {
   "cell_type": "code",
   "execution_count": null,
   "metadata": {},
   "outputs": [],
   "source": [
    "output_name = 'results/nielsens_self_catalysis_complete_time.csv'\n",
    "save_data(output_name,'nielsen',dim,complete_time)"
   ]
  }
 ],
 "metadata": {
  "kernelspec": {
   "display_name": "Python 3.7.9 ('venv': virtualenv)",
   "language": "python",
   "name": "python3"
  },
  "language_info": {
   "codemirror_mode": {
    "name": "ipython",
    "version": 3
   },
   "file_extension": ".py",
   "mimetype": "text/x-python",
   "name": "python",
   "nbconvert_exporter": "python",
   "pygments_lexer": "ipython3",
   "version": "3.7.9"
  },
  "orig_nbformat": 2,
  "vscode": {
   "interpreter": {
    "hash": "2f5a1eaa97d7fa64e27830ed955794d65c91988754f18d49c17d98b7867074a7"
   }
  }
 },
 "nbformat": 4,
 "nbformat_minor": 2
}

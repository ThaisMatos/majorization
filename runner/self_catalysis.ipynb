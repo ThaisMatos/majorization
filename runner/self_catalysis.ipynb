{
 "metadata": {
  "language_info": {
   "codemirror_mode": {
    "name": "ipython",
    "version": 3
   },
   "file_extension": ".py",
   "mimetype": "text/x-python",
   "name": "python",
   "nbconvert_exporter": "python",
   "pygments_lexer": "ipython3",
   "version": "3.7.9"
  },
  "orig_nbformat": 2,
  "kernelspec": {
   "name": "python3",
   "display_name": "Python 3.7.9 64-bit ('venv': virtualenv)",
   "metadata": {
    "interpreter": {
     "hash": "26af68bab6a6ee3c06d7425d65c91870efdccef678342ee374f9f2554bf3aa17"
    }
   }
  }
 },
 "nbformat": 4,
 "nbformat_minor": 2,
 "cells": [
  {
   "source": [
    "# Self Catalysis"
   ],
   "cell_type": "markdown",
   "metadata": {}
  },
  {
   "source": [
    "1. Find alpha =/> beta and beta =/> alpha pairs\n",
    "2. Calculate alpha x alpha (alpha') and beta x alpha(beta')\n",
    "3. Sort alpha' and beta'\n",
    "4. Check if alpha' -> beta'"
   ],
   "cell_type": "markdown",
   "metadata": {}
  },
  {
   "cell_type": "code",
   "execution_count": null,
   "metadata": {},
   "outputs": [],
   "source": [
    "from keras.models import model_from_json"
   ]
  },
  {
   "source": [
    "## Data preprocessing"
   ],
   "cell_type": "markdown",
   "metadata": {}
  },
  {
   "cell_type": "code",
   "execution_count": null,
   "metadata": {},
   "outputs": [],
   "source": [
    "%run ../ml_models/CommonFunctions.ipynb"
   ]
  },
  {
   "cell_type": "code",
   "execution_count": null,
   "metadata": {},
   "outputs": [],
   "source": [
    "# dim = 4\n",
    "# optimizer = 'adam'"
   ]
  },
  {
   "cell_type": "code",
   "execution_count": null,
   "metadata": {},
   "outputs": [],
   "source": [
    "df_sample = read_csv('../data/output_d'+str(dim)+'_s1000000.csv')\n",
    "df_input = format_input(df_sample)"
   ]
  },
  {
   "source": [
    "## Filtering not majorated samples"
   ],
   "cell_type": "markdown",
   "metadata": {}
  },
  {
   "cell_type": "code",
   "execution_count": null,
   "metadata": {},
   "outputs": [],
   "source": [
    "df_not_majorated = df_input[df_input['AB'] == False]\n",
    "#TODO filter only b =/> a to get stronger results"
   ]
  },
  {
   "cell_type": "code",
   "execution_count": null,
   "metadata": {},
   "outputs": [],
   "source": [
    "df_not_majorated.head()"
   ]
  },
  {
   "source": [
    "## Multiplying and sorting elements"
   ],
   "cell_type": "markdown",
   "metadata": {}
  },
  {
   "cell_type": "code",
   "execution_count": null,
   "metadata": {},
   "outputs": [],
   "source": [
    "def multiply_and_sort(row):\n",
    "    newA = np.sort(np.multiply.outer(row[\"A\"], row[\"A\"]).flatten())[::-1]\n",
    "    newB = np.sort(np.multiply.outer(row[\"B\"], row[\"A\"]).flatten())[::-1]\n",
    "    return [newA, newB, is_a_valid_pair(newA,newB)]\n",
    "\n",
    "df_self_catalysis = df_not_majorated.reset_index(drop=True).apply(multiply_and_sort, axis=1, result_type='broadcast')"
   ]
  },
  {
   "source": [
    "## Loading model and weights"
   ],
   "cell_type": "markdown",
   "metadata": {}
  },
  {
   "cell_type": "code",
   "execution_count": null,
   "metadata": {},
   "outputs": [],
   "source": [
    "model_filename = './results/model/seq_200relu_100relu_50ep__d'+str(dim**2)+'_opt-'+optimizer\n",
    "json_file = open(model_filename+'.json')\n",
    "loaded_model_json = json_file.read()\n",
    "json_file.close()\n",
    "\n",
    "loaded_model = model_from_json(loaded_model_json)\n",
    "loaded_model.load_weights(model_filename+'.h5')\n",
    "loaded_model.compile(optimizer=optimizer, loss='binary_crossentropy', metrics=['accuracy'])"
   ]
  },
  {
   "cell_type": "code",
   "execution_count": null,
   "metadata": {},
   "outputs": [],
   "source": [
    "score = loaded_model.evaluate([np.array(list(df_self_catalysis['A'])), np.array(list(df_self_catalysis['B']))], np.array(list(df_self_catalysis['AB'])))"
   ]
  },
  {
   "cell_type": "code",
   "execution_count": null,
   "metadata": {},
   "outputs": [],
   "source": [
    "score"
   ]
  },
  {
   "cell_type": "code",
   "execution_count": null,
   "metadata": {},
   "outputs": [],
   "source": [
    "output_name = 'results/self_catalysis_acc.csv'\n",
    "save_data(output_name,optimizer,dim,score[1])"
   ]
  }
 ]
}
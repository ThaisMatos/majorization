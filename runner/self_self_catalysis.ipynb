{
 "metadata": {
  "language_info": {
   "codemirror_mode": {
    "name": "ipython",
    "version": 3
   },
   "file_extension": ".py",
   "mimetype": "text/x-python",
   "name": "python",
   "nbconvert_exporter": "python",
   "pygments_lexer": "ipython3",
   "version": "3.7.9"
  },
  "orig_nbformat": 2,
  "kernelspec": {
   "name": "python3",
   "display_name": "Python 3.7.9 64-bit ('venv': virtualenv)",
   "metadata": {
    "interpreter": {
     "hash": "26af68bab6a6ee3c06d7425d65c91870efdccef678342ee374f9f2554bf3aa17"
    }
   }
  }
 },
 "nbformat": 4,
 "nbformat_minor": 2,
 "cells": [
  {
   "source": [
    "# Self Self Catalysis"
   ],
   "cell_type": "markdown",
   "metadata": {}
  },
  {
   "source": [
    "1. Find alpha =/> beta and beta =/> alpha pairs\n",
    "2. Calculate alpha x alpha (alpha') and beta x alpha(beta')\n",
    "3. Sort alpha' and beta'\n",
    "4. Predict/Check if alpha' -> beta'\n",
    "5. Find alpha' =/> beta' and beta' =/> alpha' pairs\n",
    "6. Calculate alpha' x alpha (alpha'') and beta' x alpha(beta'')\n",
    "7. Sort alpha'' and beta''\n",
    "8. Check if alpha'' -> beta''"
   ],
   "cell_type": "markdown",
   "metadata": {}
  },
  {
   "cell_type": "code",
   "execution_count": null,
   "metadata": {},
   "outputs": [],
   "source": [
    "import time"
   ]
  },
  {
   "source": [
    "## Data preprocessing"
   ],
   "cell_type": "markdown",
   "metadata": {}
  },
  {
   "cell_type": "code",
   "execution_count": null,
   "metadata": {},
   "outputs": [],
   "source": [
    "%run ../ml_models/CommonFunctions.ipynb"
   ]
  },
  {
   "cell_type": "code",
   "execution_count": null,
   "metadata": {},
   "outputs": [],
   "source": [
    "# dim = 4\n",
    "# optimizer = 'adam'\n",
    "# predict_flag = True"
   ]
  },
  {
   "cell_type": "code",
   "execution_count": null,
   "metadata": {},
   "outputs": [],
   "source": [
    "df_sample = read_csv('../data/output_d'+str(dim)+'_s1000000.csv')\n",
    "df_input = format_input(df_sample)"
   ]
  },
  {
   "cell_type": "code",
   "execution_count": null,
   "metadata": {},
   "outputs": [],
   "source": [
    "initial_time = time.time()"
   ]
  },
  {
   "source": [
    "## Filtering not majorated samples"
   ],
   "cell_type": "markdown",
   "metadata": {}
  },
  {
   "cell_type": "code",
   "execution_count": null,
   "metadata": {},
   "outputs": [],
   "source": [
    "df_not_majorated = df_input[df_input['AB'] == False]\n",
    "#TODO filter only b =/> a to get stronger results"
   ]
  },
  {
   "cell_type": "code",
   "execution_count": null,
   "metadata": {},
   "outputs": [],
   "source": [
    "df_not_majorated.head()"
   ]
  },
  {
   "source": [
    "## Loading model and weights"
   ],
   "cell_type": "markdown",
   "metadata": {}
  },
  {
   "cell_type": "code",
   "execution_count": null,
   "metadata": {},
   "outputs": [],
   "source": [
    "if predict_flag:\n",
    "    self_model = load_model(dim**2, optimizer)\n",
    "    def predict(A, B):\n",
    "        return False if self_model.predict([np.array([A]), np.array([B])]) < 0.5 else True"
   ]
  },
  {
   "source": [
    "## Multiplying and sorting elements"
   ],
   "cell_type": "markdown",
   "metadata": {}
  },
  {
   "cell_type": "code",
   "execution_count": null,
   "metadata": {
    "tags": []
   },
   "outputs": [],
   "source": [
    "def self_catalysis_multiply_and_sort(row):\n",
    "    newA = np.sort(np.multiply.outer(row[\"A\"], row[\"A\"]).flatten())[::-1]\n",
    "    row['Al'] = newA\n",
    "    newB = np.sort(np.multiply.outer(row[\"B\"], row[\"A\"]).flatten())[::-1]\n",
    "    row['Bl'] = newB\n",
    "    row['ABl'] = predict(newA, newB) if predict_flag else is_a_valid_pair(newA, newB)\n",
    "    return row\n",
    "\n",
    "df_self_catalysis = df_not_majorated.reset_index(drop=True).apply(self_catalysis_multiply_and_sort, axis=1)"
   ]
  },
  {
   "cell_type": "code",
   "execution_count": null,
   "metadata": {},
   "outputs": [],
   "source": [
    "df_self_catalysis.head()"
   ]
  },
  {
   "source": [
    "df_self_not_majorated = df_self_catalysis[df_self_catalysis['ABl'] == False]"
   ],
   "cell_type": "code",
   "metadata": {},
   "execution_count": null,
   "outputs": []
  },
  {
   "cell_type": "code",
   "execution_count": null,
   "metadata": {},
   "outputs": [],
   "source": [
    "df_self_not_majorated.head()"
   ]
  },
  {
   "cell_type": "code",
   "execution_count": null,
   "metadata": {},
   "outputs": [],
   "source": [
    "def self_self_catalysis_multiply_and_sort(row):\n",
    "    newA = np.sort(np.multiply.outer(row[\"Al\"], row[\"A\"]).flatten())[::-1]\n",
    "    row['All'] = newA\n",
    "    newB = np.sort(np.multiply.outer(row[\"Bl\"], row[\"A\"]).flatten())[::-1]\n",
    "    row['Bll'] = newB\n",
    "    row['ABll'] = is_a_valid_pair(newA, newB)\n",
    "    return row\n",
    "\n",
    "df_self_self_catalysis = df_self_not_majorated.reset_index(drop=True).apply(self_self_catalysis_multiply_and_sort, axis=1)"
   ]
  },
  {
   "cell_type": "code",
   "execution_count": null,
   "metadata": {},
   "outputs": [],
   "source": [
    "final_model = load_model(dim**3, optimizer)"
   ]
  },
  {
   "cell_type": "code",
   "execution_count": null,
   "metadata": {},
   "outputs": [],
   "source": [
    "start_time = time.time()\n",
    "score = final_model.evaluate([np.array(list(df_self_self_catalysis['All'])), np.array(list(df_self_self_catalysis['Bll']))], np.array(list(df_self_self_catalysis['ABll'])))\n",
    "catalysis_time = time.time() - start_time\n",
    "complete_time = time.time() - initial_time"
   ]
  },
  {
   "cell_type": "code",
   "execution_count": null,
   "metadata": {},
   "outputs": [],
   "source": [
    "score"
   ]
  },
  {
   "cell_type": "code",
   "execution_count": null,
   "metadata": {},
   "outputs": [],
   "source": [
    "output_name = 'results/self_self_catalysis_acc_predict.csv' if predict_flag else 'results/self_self_catalysis_acc.csv'\n",
    "save_data(output_name,optimizer,dim,score[1])"
   ]
  },
  {
   "cell_type": "code",
   "execution_count": null,
   "metadata": {},
   "outputs": [],
   "source": [
    "output_name = 'results/self_self_catalysis_execution_time_predict.csv' if predict_flag else 'results/self_self_catalysis_execution_time.csv'\n",
    "save_data(output_name,optimizer,dim,catalysis_time)"
   ]
  },
  {
   "cell_type": "code",
   "execution_count": null,
   "metadata": {},
   "outputs": [],
   "source": [
    "output_name = 'results/self_self_catalysis_complete_time_predict.csv' if predict_flag else 'results/self_self_catalysis_complete_time.csv'\n",
    "save_data(output_name,optimizer,dim,complete_time)"
   ]
  }
 ]
}
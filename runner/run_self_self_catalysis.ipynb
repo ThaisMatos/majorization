{
 "metadata": {
  "language_info": {
   "codemirror_mode": {
    "name": "ipython",
    "version": 3
   },
   "file_extension": ".py",
   "mimetype": "text/x-python",
   "name": "python",
   "nbconvert_exporter": "python",
   "pygments_lexer": "ipython3",
   "version": "3.7"
  },
  "orig_nbformat": 2,
  "kernelspec": {
   "name": "python3",
   "display_name": "Python 3.7  ('venv': virtualenv)"
  },
  "interpreter": {
   "hash": "26af68bab6a6ee3c06d7425d65c91870efdccef678342ee374f9f2554bf3aa17"
  }
 },
 "nbformat": 4,
 "nbformat_minor": 2,
 "cells": [
  {
   "source": [
    "## Arguments"
   ],
   "cell_type": "markdown",
   "metadata": {}
  },
  {
   "cell_type": "code",
   "execution_count": null,
   "metadata": {},
   "outputs": [],
   "source": [
    "dim = 4\n",
    "optimizers = ['adam','sgd','adadelta','adagrad','rmsprop']\n",
    "predict_flag = False"
   ]
  },
  {
   "source": [
    "## Model execution"
   ],
   "cell_type": "markdown",
   "metadata": {}
  },
  {
   "cell_type": "code",
   "execution_count": null,
   "metadata": {},
   "outputs": [],
   "source": [
    "for optimizer in optimizers:\n",
    "        %run self_self_catalysis.ipynb"
   ]
  }
 ]
}
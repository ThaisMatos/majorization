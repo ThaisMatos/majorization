{
 "nbformat": 4,
 "nbformat_minor": 2,
 "metadata": {
  "language_info": {
   "name": "python",
   "codemirror_mode": {
    "name": "ipython",
    "version": 3
   },
   "version": "3.7.7-final"
  },
  "orig_nbformat": 2,
  "file_extension": ".py",
  "mimetype": "text/x-python",
  "name": "python",
  "npconvert_exporter": "python",
  "pygments_lexer": "ipython3",
  "version": 3,
  "kernelspec": {
   "name": "python37664bitvenvvirtualenv76aacd352c7a46bc9e8335aecdb5fbc9",
   "display_name": "Python 3.7.6 64-bit ('venv': virtualenv)"
  }
 },
 "cells": [
  {
   "cell_type": "markdown",
   "metadata": {},
   "source": [
    "# Sequential Model\n",
    "- Linear stack of layers"
   ]
  },
  {
   "cell_type": "code",
   "execution_count": null,
   "metadata": {
    "tags": []
   },
   "outputs": [],
   "source": [
    "import keras\n",
    "import time\n",
    "from keras.layers import Input, Dense\n",
    "from keras.models import Model\n",
    "\n",
    "# dim = 4 # space dimension\n",
    "# total = 10000 #number of samples\n",
    "# epoch = 20\n",
    "# optimizer = 'rmsprop'\n",
    "filename = '../data/output_d'+str(dim)+'_s'+str(total)+'.csv'"
   ]
  },
  {
   "cell_type": "markdown",
   "metadata": {},
   "source": [
    "## Common functions to manage the input file"
   ]
  },
  {
   "cell_type": "code",
   "execution_count": null,
   "metadata": {},
   "outputs": [],
   "source": [
    "%run ../ml_models/CommonFunctions.ipynb"
   ]
  },
  {
   "cell_type": "code",
   "execution_count": null,
   "metadata": {},
   "outputs": [],
   "source": [
    "train_data, test_data = read_file_format_and_split(filename)"
   ]
  },
  {
   "cell_type": "markdown",
   "metadata": {},
   "source": [
    "## Sequential Model Configuration"
   ]
  },
  {
   "cell_type": "code",
   "execution_count": null,
   "metadata": {},
   "outputs": [],
   "source": [
    "input_a = Input(shape=(dim,))\n",
    "input_b = Input(shape=(dim,))\n",
    "\n",
    "main_input = keras.layers.concatenate([input_a, input_b])\n",
    "\n",
    "output_1 = Dense(200, activation='relu')(main_input)\n",
    "output_2 = Dense(100, activation='relu')(output_1)\n",
    "main_output = Dense(1, activation='sigmoid')(output_2)\n",
    "\n",
    "model = Model(inputs=[input_a,input_b], outputs=main_output)\n",
    "model.compile(optimizer=optimizer,\n",
    "              loss='binary_crossentropy',\n",
    "              metrics=['accuracy'])"
   ]
  },
  {
   "cell_type": "code",
   "execution_count": null,
   "metadata": {
    "tags": []
   },
   "outputs": [],
   "source": [
    "start_time = time.time()\n",
    "model.fit([np.array(list(train_data['A'])), np.array(list(train_data['B']))], np.array(list(train_data['AB'])), validation_split=.2, epochs=epoch, verbose=0)\n",
    "\n",
    "train_duration = time.time() - start_time\n",
    "train_duration"
   ]
  },
  {
   "cell_type": "code",
   "execution_count": null,
   "metadata": {
    "tags": []
   },
   "outputs": [],
   "source": [
    "start_time = time.time()\n",
    "score = model.evaluate([np.array(list(test_data['A'])), np.array(list(test_data['B']))], np.array(list(test_data['AB'])))\n",
    "test_duration = time.time() - start_time\n",
    "score"
   ]
  },
  {
   "cell_type": "code",
   "execution_count": null,
   "metadata": {},
   "outputs": [],
   "source": [
    "test_duration"
   ]
  },
  {
   "cell_type": "markdown",
   "metadata": {},
   "source": [
    "## Saving model, weights and data to plot"
   ]
  },
  {
   "cell_type": "code",
   "execution_count": null,
   "metadata": {},
   "outputs": [],
   "source": [
    "# config_name = \"seq_200relu_100relu_1d_20ep\""
   ]
  },
  {
   "cell_type": "code",
   "execution_count": null,
   "metadata": {},
   "outputs": [],
   "source": [
    "# save_model_json(model,config_name,dim,total)"
   ]
  },
  {
   "cell_type": "code",
   "execution_count": null,
   "metadata": {},
   "outputs": [],
   "source": [
    "# save_model_weights(model,config_name,dim,total)"
   ]
  },
  {
   "cell_type": "code",
   "execution_count": null,
   "metadata": {},
   "outputs": [],
   "source": [
    "output_name = 'results/'+ optimizer + '_epochxacc.txt'\n",
    "save_data_to_plot(output_name,optimizer,dim,epoch,score[1])"
   ]
  },
  {
   "cell_type": "code",
   "execution_count": null,
   "metadata": {},
   "outputs": [],
   "source": [
    "output_name = 'results/' + optimizer + '_epochxtrainningtime.txt'\n",
    "save_data_to_plot(output_name,optimizer,dim,epoch,train_duration)"
   ]
  }
 ]
}
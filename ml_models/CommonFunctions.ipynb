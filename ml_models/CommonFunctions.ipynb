{
 "nbformat": 4,
 "nbformat_minor": 2,
 "metadata": {
  "language_info": {
   "name": "python",
   "codemirror_mode": {
    "name": "ipython",
    "version": 3
   }
  },
  "orig_nbformat": 2,
  "file_extension": ".py",
  "mimetype": "text/x-python",
  "name": "python",
  "npconvert_exporter": "python",
  "pygments_lexer": "ipython3",
  "version": 3
 },
 "cells": [
  {
   "cell_type": "code",
   "execution_count": null,
   "metadata": {},
   "outputs": [],
   "source": [
    "import numpy as np\n",
    "import pandas as pd\n",
    "from ast import literal_eval"
   ]
  },
  {
   "cell_type": "code",
   "execution_count": null,
   "metadata": {},
   "outputs": [],
   "source": [
    "def convert_string_to_list(column):\n",
    "    # return column.apply(lambda cell: np.fromstring(cell[1:-1], dtype=np.float64, sep=' '))\n",
    "    return column.apply(lambda cell: np.array(literal_eval(cell)))"
   ]
  },
  {
   "cell_type": "code",
   "execution_count": null,
   "metadata": {},
   "outputs": [],
   "source": [
    "def train_test_split(df, train_percent=.8):\n",
    "    n_samples = df.shape[0]\n",
    "    perm = np.random.permutation(n_samples)\n",
    "    train_end = int(train_percent * n_samples)\n",
    "    train = df.iloc[perm[:train_end]]\n",
    "    test = df.iloc[perm[train_end:]]\n",
    "    return train, test"
   ]
  },
  {
   "cell_type": "code",
   "execution_count": null,
   "metadata": {},
   "outputs": [],
   "source": [
    "def read_csv(filename):\n",
    "    df_samples = pd.read_csv(filename,sep=';',names=['V1','V2','V1V2','V2V1'])\n",
    "    df_samples['V1'] = convert_string_to_list(df_samples['V1'])\n",
    "    df_samples['V2'] = convert_string_to_list(df_samples['V2'])\n",
    "    # df_samples.head()\n",
    "    return df_samples"
   ]
  },
  {
   "cell_type": "code",
   "execution_count": null,
   "metadata": {},
   "outputs": [],
   "source": [
    "def format_input(df_samples):\n",
    "    df_input = df_samples.filter(['V1','V2','V1V2']).rename(columns={'V1': 'A', 'V2': 'B', 'V1V2': 'AB'})\n",
    "    df_input = pd.concat([df_input,df_samples.filter(['V2','V1','V2V1']).rename(columns={'V2':'A', 'V1': 'B', 'V2V1': 'AB'})])\n",
    "    return df_input"
   ]
  },
  {
   "cell_type": "code",
   "execution_count": null,
   "metadata": {},
   "outputs": [],
   "source": [
    "def read_file_format_and_split(filename):\n",
    "    df_samples = read_csv(filename)\n",
    "    df_input = format_input(df_samples)\n",
    "    return train_test_split(df_input)"
   ]
  },
  {
   "cell_type": "code",
   "execution_count": null,
   "metadata": {},
   "outputs": [],
   "source": [
    "def save_model_json(model,config_name,dim,total):\n",
    "    model_json = model.to_json()\n",
    "    model_name = 'model_'+config_name+'_d'+str(dim)+'_s'+str(total)+'.json'\n",
    "    with open(model_name,'w') as json_file:\n",
    "        json_file.write(model_json)"
   ]
  },
  {
   "cell_type": "code",
   "execution_count": null,
   "metadata": {},
   "outputs": [],
   "source": [
    "def save_model_weights(model,config_name,dim,total):\n",
    "    model_weights_name = 'model_'+config_name+'_d'+str(dim)+'_s'+str(total)+'.h5'\n",
    "    model.save_weights(model_weights_name)"
   ]
  }
 ]
}
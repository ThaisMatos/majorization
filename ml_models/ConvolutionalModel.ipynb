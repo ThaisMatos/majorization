{
 "nbformat": 4,
 "nbformat_minor": 2,
 "metadata": {
  "language_info": {
   "name": "python",
   "codemirror_mode": {
    "name": "ipython",
    "version": 3
   },
   "version": "3.7.7-final"
  },
  "orig_nbformat": 2,
  "file_extension": ".py",
  "mimetype": "text/x-python",
  "name": "python",
  "npconvert_exporter": "python",
  "pygments_lexer": "ipython3",
  "version": 3,
  "kernelspec": {
   "name": "python37664bitvenvvirtualenv76aacd352c7a46bc9e8335aecdb5fbc9",
   "display_name": "Python 3.7.6 64-bit ('venv': virtualenv)"
  }
 },
 "cells": [
  {
   "cell_type": "markdown",
   "metadata": {},
   "source": [
    "# Convolutional Model"
   ]
  },
  {
   "cell_type": "code",
   "execution_count": null,
   "metadata": {
    "tags": []
   },
   "outputs": [],
   "source": [
    "import keras\n",
    "import time\n",
    "from keras.models import Model\n",
    "from keras.layers import Input,Dense,Conv1D,Flatten,BatchNormalization,Dropout\n",
    "from keras.optimizers import RMSprop\n",
    "\n",
    "dim = 4 # space dimension\n",
    "total = 10000 #number of samples\n",
    "filename = '../data/output_d'+str(dim)+'_s'+str(total)+'.csv'"
   ]
  },
  {
   "cell_type": "markdown",
   "metadata": {},
   "source": [
    "## Common functions to manage the input file"
   ]
  },
  {
   "cell_type": "code",
   "execution_count": null,
   "metadata": {},
   "outputs": [],
   "source": [
    "%run CommonFunctions.ipynb"
   ]
  },
  {
   "cell_type": "code",
   "execution_count": null,
   "metadata": {},
   "outputs": [],
   "source": [
    "train_data, test_data = read_file_format_and_split(filename)"
   ]
  },
  {
   "cell_type": "markdown",
   "metadata": {},
   "source": [
    "## Convolutional Model Configuration"
   ]
  },
  {
   "cell_type": "code",
   "execution_count": null,
   "metadata": {},
   "outputs": [],
   "source": [
    "input_a = Input(shape=(dim,1))\n",
    "input_b = Input(shape=(dim,1))\n",
    "\n",
    "main_input = keras.layers.concatenate([input_a, input_b])\n",
    "\n",
    "output_1 = Conv1D(100,kernel_size=(int(dim/2)),padding=\"same\", activation='relu', input_shape=(dim,2))(main_input)\n",
    "output_2 = BatchNormalization()(output_1)\n",
    "output_3 = Conv1D(150,kernel_size=(int(dim/2)),padding=\"same\", activation='relu')(output_2)\n",
    "output_4 = BatchNormalization()(output_3)\n",
    "output_5 = Conv1D(200,kernel_size=(int(dim/2)),padding=\"same\", activation='relu')(output_4)\n",
    "output_6 = Flatten()(output_5)\n",
    "output_7 = Dropout(0.5)(output_6)\n",
    "main_output = Dense(1, activation='sigmoid')(output_7)\n",
    "\n",
    "model = Model(inputs=[input_a,input_b], outputs=main_output)\n",
    "opt = RMSprop(learning_rate=0.00001)\n",
    "model.compile(optimizer=opt,\n",
    "              loss='binary_crossentropy',\n",
    "              metrics=['accuracy'])"
   ]
  },
  {
   "cell_type": "code",
   "execution_count": null,
   "metadata": {
    "tags": []
   },
   "outputs": [],
   "source": [
    "start_time = time.time()\n",
    "input_shape = (train_data.shape[0],dim,1)\n",
    "input_reshaped = [np.array(list(train_data['A'])).reshape(input_shape), np.array(list(train_data['B'])).reshape(input_shape)]\n",
    "model.fit(input_reshaped, np.array(list(train_data['AB'])).reshape(train_data.shape[0],1), validation_split=.2, epochs=20, verbose=2)  # starts training\n",
    "train_duration = time.time() - start_time\n",
    "train_duration"
   ]
  },
  {
   "cell_type": "code",
   "execution_count": null,
   "metadata": {
    "tags": []
   },
   "outputs": [],
   "source": [
    "start_time = time.time()\n",
    "score = model.evaluate([np.array(list(test_data['A'])).reshape(test_data.shape[0],dim,1), np.array(list(test_data['B'])).reshape(test_data.shape[0],dim,1)], np.array(list(test_data['AB'])).reshape(test_data.shape[0],1))\n",
    "test_duration = time.time() - start_time\n",
    "score"
   ]
  },
  {
   "cell_type": "code",
   "execution_count": null,
   "metadata": {},
   "outputs": [],
   "source": [
    "test_duration"
   ]
  },
  {
   "cell_type": "markdown",
   "metadata": {},
   "source": [
    "## Saving model and weights"
   ]
  },
  {
   "cell_type": "code",
   "execution_count": null,
   "metadata": {},
   "outputs": [],
   "source": [
    "config_name = \"conv_100_150_200_dp05_ep20\""
   ]
  },
  {
   "cell_type": "code",
   "execution_count": null,
   "metadata": {},
   "outputs": [],
   "source": [
    "save_model_json(model,config_name,dim,total)"
   ]
  },
  {
   "cell_type": "code",
   "execution_count": null,
   "metadata": {},
   "outputs": [],
   "source": [
    "save_model_weights(model,config_name,dim,total)"
   ]
  }
 ]
}
{
 "nbformat": 4,
 "nbformat_minor": 2,
 "metadata": {
  "language_info": {
   "name": "python",
   "codemirror_mode": {
    "name": "ipython",
    "version": 3
   },
   "version": "3.7.5-final"
  },
  "orig_nbformat": 2,
  "file_extension": ".py",
  "mimetype": "text/x-python",
  "name": "python",
  "npconvert_exporter": "python",
  "pygments_lexer": "ipython3",
  "version": 3,
  "kernelspec": {
   "name": "python37564bit2885d63e7b7f4f7f8f0b5aae7f6a57b4",
   "display_name": "Python 3.7.5 64-bit"
  }
 },
 "cells": [
  {
   "cell_type": "markdown",
   "execution_count": null,
   "metadata": {},
   "outputs": [],
   "source": [
    "# Generate samples and check if it respect the rule R"
   ]
  },
  {
   "cell_type": "code",
   "execution_count": 1,
   "metadata": {},
   "outputs": [],
   "source": [
    "import csv\n",
    "import numpy as np\n",
    "\n",
    "dim = 3 # space dimension 3-12\n",
    "total_pairs = 1000 #total of pairs of vectors to be generated"
   ]
  },
  {
   "cell_type": "markdown",
   "execution_count": null,
   "metadata": {},
   "outputs": [],
   "source": [
    "## Generating random samples"
   ]
  },
  {
   "cell_type": "code",
   "execution_count": 2,
   "metadata": {},
   "outputs": [],
   "source": [
    "def generate_random_vector():\n",
    "    vec_samples = list()\n",
    "    for i in range(total_pairs):\n",
    "        vec = np.random.uniform(size=dim) #sorting\n",
    "        vec /= np.sum(vec) #normalizing\n",
    "        vec_samples.append(vec)\n",
    "        \n",
    "    return vec_samples"
   ]
  },
  {
   "cell_type": "code",
   "execution_count": 3,
   "metadata": {},
   "outputs": [],
   "source": [
    "def get_sorted_random_samples():\n",
    "    return [np.sort(vec)[::-1] for vec in generate_random_vector()]"
   ]
  },
  {
   "cell_type": "code",
   "execution_count": 4,
   "metadata": {},
   "outputs": [],
   "source": [
    "vec1_samples = get_sorted_random_samples()\n",
    "vec2_samples = get_sorted_random_samples()"
   ]
  },
  {
   "cell_type": "markdown",
   "execution_count": null,
   "metadata": {},
   "outputs": [],
   "source": [
    "# Check if respect the rule"
   ]
  },
  {
   "cell_type": "code",
   "execution_count": 5,
   "metadata": {},
   "outputs": [],
   "source": [
    "def is_less_than(v1,v2):\n",
    "    return np.sum(v1) < np.sum(v2)\n",
    "\n",
    "def is_equal(v1,v2):\n",
    "    return np.isclose(np.sum(v1),np.sum(v2))\n",
    "\n",
    "def check_rule(v1,v2):\n",
    "    return is_less_than(v1,v2) or is_equal(v1,v2)"
   ]
  },
  {
   "cell_type": "code",
   "execution_count": 6,
   "metadata": {},
   "outputs": [],
   "source": [
    "def is_a_valid_pair(v1,v2):\n",
    "    for idx in range(1,len(v1)): #ignoring last sum because all vectors sum 1\n",
    "        if not check_rule(v1[:idx], v2[:idx]):\n",
    "            return False\n",
    "\n",
    "    return True"
   ]
  },
  {
   "cell_type": "code",
   "execution_count": 7,
   "metadata": {},
   "outputs": [],
   "source": [
    "def validate_samples(first_vec,second_vec):\n",
    "    validation_first_vs_second = list()\n",
    "    for sample1 in first_vec:\n",
    "        validation_sample = list()\n",
    "        for sample2 in second_vec:\n",
    "            validation_sample.append(is_a_valid_pair(sample1,sample2))\n",
    "        validation_first_vs_second.append(validation_sample)\n",
    "\n",
    "    return validation_first_vs_second"
   ]
  },
  {
   "cell_type": "code",
   "execution_count": 8,
   "metadata": {},
   "outputs": [],
   "source": [
    "validation_vec1_vs_vec2 = validate_samples(vec1_samples,vec2_samples)\n",
    "validation_vec2_vs_vec1 = validate_samples(vec2_samples,vec1_samples)"
   ]
  },
  {
   "cell_type": "markdown",
   "execution_count": null,
   "metadata": {},
   "outputs": [],
   "source": [
    "# Writing outputs in a file\n",
    "> Format: vector1;vector2;vector1xvector2;vector2xvector1"
   ]
  },
  {
   "cell_type": "code",
   "execution_count": 9,
   "metadata": {},
   "outputs": [],
   "source": [
    "filename = 'output_d'+str(dim)+'_s'+str(total_pairs**2)+'.csv'\n",
    "with open(filename, mode='w') as output_file:\n",
    "    output_writer = csv.writer(output_file,delimiter=';')\n",
    "\n",
    "    for vec1_idx in range(total_pairs):\n",
    "        for vec2_idx in range(total_pairs):\n",
    "            output_writer.writerow([vec1_samples[vec1_idx],vec2_samples[vec2_idx],validation_vec1_vs_vec2[vec1_idx][vec2_idx],validation_vec2_vs_vec1[vec2_idx][vec1_idx]])\n"
   ]
  }
 ]
}
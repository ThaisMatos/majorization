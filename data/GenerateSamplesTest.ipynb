{
 "cells": [
  {
   "cell_type": "markdown",
   "metadata": {},
   "source": [
    "# Data Generation - tests"
   ]
  },
  {
   "cell_type": "markdown",
   "metadata": {},
   "source": [
    "- Sort uniform vectors (multiple dimensions)\n",
    "- normalize (sum == 1)\n",
    "- histogram"
   ]
  },
  {
   "cell_type": "code",
   "execution_count": null,
   "metadata": {},
   "outputs": [],
   "source": [
    "import torch\n",
    "import numpy as np\n",
    "import matplotlib.pyplot as plt"
   ]
  },
  {
   "cell_type": "code",
   "execution_count": null,
   "metadata": {},
   "outputs": [],
   "source": [
    "# normalize\n",
    "def softmax(x):\n",
    "    return np.exp(x) / np.sum(np.exp(x))"
   ]
  },
  {
   "cell_type": "markdown",
   "metadata": {},
   "source": [
    "> Different Test"
   ]
  },
  {
   "cell_type": "code",
   "execution_count": null,
   "metadata": {},
   "outputs": [],
   "source": [
    "vec_list = list()\n",
    "vector_size = 4\n",
    "for i in range(100000):\n",
    "    vec = np.random.uniform(size=vector_size-1) #sorting\n",
    "    vec = np.append(vec,[0])\n",
    "    vec = np.append(vec,[1])\n",
    "    sorted_vec = np.sort(vec)\n",
    "    prob_vec = list()\n",
    "    for j in range(vector_size):\n",
    "        prob_vec.append(sorted_vec[j+1] - sorted_vec[j])\n",
    "    # print(prob_vec)\n",
    "    # print(np.sum(prob_vec))\n",
    "    vec_list.append(prob_vec)"
   ]
  },
  {
   "cell_type": "code",
   "execution_count": null,
   "metadata": {},
   "outputs": [],
   "source": [
    "hist,bins = np.histogram(vec_list,np.arange(0,1,0.001))\n",
    "width = 0.7 * (bins[1] - bins[0])\n",
    "center = (bins[:-1] + bins[1:]) / 2\n",
    "plt.bar(center, hist, align='center', width=width)\n",
    "plt.show()"
   ]
  },
  {
   "cell_type": "markdown",
   "metadata": {},
   "source": [
    "> Scipy tests"
   ]
  },
  {
   "cell_type": "code",
   "execution_count": null,
   "metadata": {},
   "outputs": [],
   "source": [
    "from scipy.stats import uniform"
   ]
  },
  {
   "cell_type": "code",
   "execution_count": null,
   "metadata": {},
   "outputs": [],
   "source": [
    "sc_vec = uniform.rvs(size=3)\n",
    "print(sc_vec)\n",
    "# sc_vec /= np.sum(sc_vec)\n",
    "sc_vec = softmax(sc_vec)\n",
    "print(sc_vec)\n",
    "print(np.sum(sc_vec))"
   ]
  },
  {
   "cell_type": "code",
   "execution_count": null,
   "metadata": {},
   "outputs": [],
   "source": [
    "sc_vec_list = list()\n",
    "for i in range(100000):\n",
    "    sc_vec = uniform.rvs(size=4) #sorting\n",
    "    # sc_vec /= np.sum(sc_vec) #normalizing\n",
    "    sc_vec = softmax(sc_vec) #normalizing\n",
    "    sc_vec_list.append(sc_vec)"
   ]
  },
  {
   "cell_type": "code",
   "execution_count": null,
   "metadata": {},
   "outputs": [],
   "source": [
    "print(np.sum(sc_vec_list[5]))"
   ]
  },
  {
   "cell_type": "code",
   "execution_count": null,
   "metadata": {},
   "outputs": [],
   "source": [
    "hist,bins = np.histogram(sc_vec_list,np.arange(0,1,0.001))\n",
    "width = 0.7 * (bins[1] - bins[0])\n",
    "center = (bins[:-1] + bins[1:]) / 2\n",
    "plt.bar(center, hist, align='center', width=width)\n",
    "plt.show()"
   ]
  },
  {
   "cell_type": "markdown",
   "metadata": {},
   "source": [
    "> Pytorch tests"
   ]
  },
  {
   "cell_type": "code",
   "execution_count": null,
   "metadata": {},
   "outputs": [],
   "source": [
    "ten = torch.rand(3)\n",
    "# ten /= ten.sum().expand_as(ten)\n",
    "ten = softmax(ten.numpy())\n",
    "print(ten)\n",
    "print(ten.sum())"
   ]
  },
  {
   "cell_type": "code",
   "execution_count": null,
   "metadata": {},
   "outputs": [],
   "source": [
    "ten_list = list()\n",
    "for i in range(1000):\n",
    "    ten = torch.rand(3) #sorting\n",
    "    # ten /= ten.sum().expand_as(ten) #normalizing\n",
    "    ten = softmax(ten.numpy()) # normalizing\n",
    "    # ten_list.append(ten.numpy())\n",
    "    ten_list.append(ten)"
   ]
  },
  {
   "cell_type": "code",
   "execution_count": null,
   "metadata": {},
   "outputs": [],
   "source": [
    "hist,bins = np.histogram(ten_list,np.arange(0,1,0.001))\n",
    "width = 0.7 * (bins[1] - bins[0])\n",
    "center = (bins[:-1] + bins[1:]) / 2\n",
    "plt.bar(center, hist, align='center', width=width)\n",
    "plt.show()"
   ]
  },
  {
   "cell_type": "code",
   "execution_count": null,
   "metadata": {},
   "outputs": [],
   "source": [
    "ten_list[5].sum()"
   ]
  },
  {
   "cell_type": "markdown",
   "metadata": {},
   "source": [
    "> Numpy tests"
   ]
  },
  {
   "cell_type": "code",
   "execution_count": null,
   "metadata": {},
   "outputs": [],
   "source": [
    "vec = np.random.uniform(size=3)\n",
    "print(vec)\n",
    "vec2 = vec\n",
    "vec2 /= vec2.sum(0)\n",
    "print(vec2)\n",
    "print(vec2.sum())\n",
    "vec_sum = vec.sum()\n",
    "vec3 = [v/vec_sum for v in vec]\n",
    "print(vec3)\n",
    "print(np.sum(vec3))\n",
    "\n",
    "print(vec.sum())"
   ]
  },
  {
   "cell_type": "code",
   "execution_count": null,
   "metadata": {},
   "outputs": [],
   "source": [
    "x = vec\n",
    "print(x.sum())"
   ]
  },
  {
   "cell_type": "code",
   "execution_count": null,
   "metadata": {},
   "outputs": [],
   "source": [
    "y = vec\n",
    "print(y.sum())"
   ]
  },
  {
   "cell_type": "code",
   "execution_count": null,
   "metadata": {},
   "outputs": [],
   "source": [
    "x.sum() == y.sum()"
   ]
  },
  {
   "cell_type": "code",
   "execution_count": null,
   "metadata": {},
   "outputs": [],
   "source": [
    "np.isclose(0.99999,1.00)"
   ]
  },
  {
   "cell_type": "code",
   "execution_count": null,
   "metadata": {},
   "outputs": [],
   "source": [
    "vec_list = list()\n",
    "for i in range(1000000):\n",
    "    vec = np.random.uniform(size=100) #sorting\n",
    "    vec /= vec.sum() #normalizing\n",
    "    # vec = softmax(vec)\n",
    "    vec_list.append(vec)"
   ]
  },
  {
   "cell_type": "code",
   "execution_count": null,
   "metadata": {},
   "outputs": [],
   "source": [
    "# print(vec_list)\n",
    "[np.sort(vec)[::-1] for vec in vec_list]"
   ]
  },
  {
   "cell_type": "code",
   "execution_count": null,
   "metadata": {},
   "outputs": [],
   "source": [
    "hist,bins = np.histogram(vec_list,np.arange(0,1,0.001))\n",
    "width = 0.7 * (bins[1] - bins[0])\n",
    "center = (bins[:-1] + bins[1:]) / 2\n",
    "plt.bar(center, hist, align='center', width=width)\n",
    "plt.show()"
   ]
  },
  {
   "cell_type": "code",
   "execution_count": null,
   "metadata": {},
   "outputs": [],
   "source": []
  }
 ],
 "metadata": {
  "file_extension": ".py",
  "interpreter": {
   "hash": "26af68bab6a6ee3c06d7425d65c91870efdccef678342ee374f9f2554bf3aa17"
  },
  "kernelspec": {
   "display_name": "Python 3.7.9 64-bit ('venv': virtualenv)",
   "name": "python3"
  },
  "language_info": {
   "codemirror_mode": {
    "name": "ipython",
    "version": 3
   },
   "file_extension": ".py",
   "mimetype": "text/x-python",
   "name": "python",
   "nbconvert_exporter": "python",
   "pygments_lexer": "ipython3",
   "version": "3.7.9"
  },
  "mimetype": "text/x-python",
  "name": "python",
  "npconvert_exporter": "python",
  "orig_nbformat": 2,
  "pygments_lexer": "ipython3",
  "version": 3
 },
 "nbformat": 4,
 "nbformat_minor": 2
}

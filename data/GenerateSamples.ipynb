{
 "nbformat": 4,
 "nbformat_minor": 2,
 "metadata": {
  "language_info": {
   "name": "python",
   "codemirror_mode": {
    "name": "ipython",
    "version": 3
   },
   "version": "3.7"
  },
  "orig_nbformat": 2,
  "file_extension": ".py",
  "mimetype": "text/x-python",
  "name": "python",
  "npconvert_exporter": "python",
  "pygments_lexer": "ipython3",
  "version": 3,
  "kernelspec": {
   "name": "python3",
   "display_name": "Python 3.7  ('venv': virtualenv)"
  },
  "interpreter": {
   "hash": "26af68bab6a6ee3c06d7425d65c91870efdccef678342ee374f9f2554bf3aa17"
  }
 },
 "cells": [
  {
   "cell_type": "markdown",
   "metadata": {},
   "source": [
    "# Generate samples and check if it respect the majorization formula"
   ]
  },
  {
   "cell_type": "code",
   "execution_count": null,
   "metadata": {},
   "outputs": [],
   "source": [
    "import csv\n",
    "import numpy as np\n",
    "\n",
    "dim = 3 # space dimension\n",
    "total_pairs = 100 #total of pairs of vectors to be generated"
   ]
  },
  {
   "cell_type": "markdown",
   "metadata": {},
   "source": [
    "## Generating random samples"
   ]
  },
  {
   "cell_type": "code",
   "execution_count": null,
   "metadata": {},
   "outputs": [],
   "source": [
    "def generate_random_vector():\n",
    "    vec_samples = list()\n",
    "    for i in range(total_pairs):\n",
    "        vec = np.random.uniform(size=dim) #sorting\n",
    "        vec /= np.sum(vec) #normalizing\n",
    "        vec_samples.append(vec)\n",
    "        \n",
    "    return vec_samples"
   ]
  },
  {
   "cell_type": "code",
   "execution_count": null,
   "metadata": {},
   "outputs": [],
   "source": [
    "def get_sorted_random_samples():\n",
    "    return [np.sort(vec)[::-1] for vec in generate_random_vector()]"
   ]
  },
  {
   "cell_type": "code",
   "execution_count": null,
   "metadata": {},
   "outputs": [],
   "source": [
    "vec1_samples = get_sorted_random_samples()\n",
    "vec2_samples = get_sorted_random_samples()"
   ]
  },
  {
   "cell_type": "markdown",
   "metadata": {},
   "source": [
    "# Check if respect the rule"
   ]
  },
  {
   "cell_type": "code",
   "execution_count": null,
   "metadata": {},
   "outputs": [],
   "source": [
    "%run ../ml_models/CommonFunctions.ipynb"
   ]
  },
  {
   "cell_type": "code",
   "execution_count": null,
   "metadata": {},
   "outputs": [],
   "source": [
    "def validate_samples(first_vec,second_vec):\n",
    "    validation_first_vs_second = list()\n",
    "    for sample1 in first_vec:\n",
    "        validation_sample = list()\n",
    "        for sample2 in second_vec:\n",
    "            validation_sample.append(is_a_valid_pair(sample1,sample2))\n",
    "        validation_first_vs_second.append(validation_sample)\n",
    "\n",
    "    return validation_first_vs_second"
   ]
  },
  {
   "cell_type": "code",
   "execution_count": null,
   "metadata": {},
   "outputs": [],
   "source": [
    "validation_vec1_vs_vec2 = validate_samples(vec1_samples,vec2_samples)\n",
    "validation_vec2_vs_vec1 = validate_samples(vec2_samples,vec1_samples)"
   ]
  },
  {
   "cell_type": "markdown",
   "metadata": {},
   "source": [
    "# Writing outputs in a file\n",
    "> Format: vector1;vector2;vector1->vector2;vector2->vector1"
   ]
  },
  {
   "cell_type": "code",
   "execution_count": null,
   "metadata": {},
   "outputs": [],
   "source": [
    "filename = 'output_d'+str(dim)+'_s'+str(total_pairs**2)+'.csv'\n",
    "with open(filename, mode='w') as output_file:\n",
    "    output_writer = csv.writer(output_file,delimiter=';')\n",
    "\n",
    "    for vec1_idx in range(total_pairs):\n",
    "        for vec2_idx in range(total_pairs):\n",
    "            output_writer.writerow([np.array2string(vec1_samples[vec1_idx], separator=', '),np.array2string(vec2_samples[vec2_idx], separator=', '),validation_vec1_vs_vec2[vec1_idx][vec2_idx],validation_vec2_vs_vec1[vec2_idx][vec1_idx]])\n"
   ]
  }
 ]
}